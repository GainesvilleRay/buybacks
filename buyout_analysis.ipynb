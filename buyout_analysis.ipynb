{
 "cells": [
  {
   "cell_type": "code",
   "execution_count": 1,
   "metadata": {},
   "outputs": [],
   "source": [
    "import pandas as pd\n",
    "import numpy as np"
   ]
  },
  {
   "cell_type": "code",
   "execution_count": 2,
   "metadata": {},
   "outputs": [],
   "source": [
    "cityfile = \"city.xlsx\"\n",
    "countfile = \"county.xlsx\"\n",
    "schoolsfile1 = \"schools1417.xlsx\"\n",
    "schoolsfile2 = \"schools1819.xlsx\""
   ]
  },
  {
   "cell_type": "code",
   "execution_count": 3,
   "metadata": {},
   "outputs": [],
   "source": [
    "cols = ['emp_id', 'date', 'lname', 'fname', 'hours', 'pay_code', 'pay_desc', 'amt']\n",
    "dfcity = pd.read_excel(cityfile, names=cols)\n",
    "dfcity.emp_id = dfcity.emp_id.apply(str)\n",
    "dfcity['year'] = dfcity['date'].dt.year"
   ]
  },
  {
   "cell_type": "code",
   "execution_count": 6,
   "metadata": {
    "scrolled": true
   },
   "outputs": [
    {
     "name": "stdout",
     "output_type": "stream",
     "text": [
      "The city paid a a total of $371720.71 in 2014\n",
      "Here's how it broke out by category: pay_desc\n",
      "FIRE SICK LEAVE BUY BACK     206342.51\n",
      "PTO SELL BACK               3359993.63\n",
      "SICK SELL BACK                 5142.11\n",
      "VACATION SELL BACK           808729.54\n",
      "Name: amt, dtype: float64\n",
      "The median buyout amount was $1168.63\n"
     ]
    }
   ],
   "source": [
    "dfcity2014 = dfcity[dfcity.year == 2014].reset_index()\n",
    "\n",
    "top2014 = dfcity2014.groupby(['emp_id']\n",
    "                            ).amt.sum().reset_index().sort_values('amt', ascending=False)\n",
    "\n",
    "citytot14 = str(dfcity2014.amt.sum())\n",
    "citymedian14 = str(top2014.median().amt)\n",
    "typetot14 = str(dfcity2014.groupby('pay_desc').amt.sum())\n",
    "print(\"The city paid a a total of $\" + citytot + \" in 2014\")\n",
    "print(\"Here's how it broke out by category: \" + typetot)\n",
    "print(\"The median buyout amount was $\" + citymedian)\n"
   ]
  },
  {
   "cell_type": "code",
   "execution_count": 8,
   "metadata": {},
   "outputs": [
    {
     "name": "stdout",
     "output_type": "stream",
     "text": [
      "The city paid a a total of $661915.6499999999 in 2015\n",
      "Here's how it broke out by category: pay_desc\n",
      "FIRE SICK LEAVE BUY BACK    101983.53\n",
      "PTO SELL BACK               559932.12\n",
      "Name: amt, dtype: float64\n",
      "The median buyout amount was $1168.63\n"
     ]
    }
   ],
   "source": [
    "dfcity2015 = dfcity[dfcity.year == 2015].reset_index()\n",
    "top2015 = dfcity2015.groupby(['emp_id']\n",
    "                            ).amt.sum().reset_index().sort_values('amt', ascending=False)\n",
    "\n",
    "citytot15 = str(dfcity2015.amt.sum())\n",
    "citymedian15 = str(top2015.median().amt)\n",
    "typetot15 = str(dfcity2015.groupby('pay_desc').amt.sum())\n",
    "print(\"The city paid a a total of $\" + citytot15 + \" in 2015\")\n",
    "print(\"Here's how it broke out by category: \" + typetot15)\n",
    "print(\"The median buyout amount was $\" + citymedian15)"
   ]
  },
  {
   "cell_type": "code",
   "execution_count": null,
   "metadata": {},
   "outputs": [],
   "source": []
  }
 ],
 "metadata": {
  "kernelspec": {
   "display_name": "Python 3",
   "language": "python",
   "name": "python3"
  },
  "language_info": {
   "codemirror_mode": {
    "name": "ipython",
    "version": 3
   },
   "file_extension": ".py",
   "mimetype": "text/x-python",
   "name": "python",
   "nbconvert_exporter": "python",
   "pygments_lexer": "ipython3",
   "version": "3.7.1"
  }
 },
 "nbformat": 4,
 "nbformat_minor": 2
}
